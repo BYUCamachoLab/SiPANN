{
 "cells": [
  {
   "cell_type": "markdown",
   "metadata": {},
   "source": [
    "# SCEE and Simphony"
   ]
  },
  {
   "cell_type": "markdown",
   "metadata": {},
   "source": [
    "[Simphony](https://simphonyphotonics.readthedocs.io/en/latest/) includes a module that implements all of the SCEE models produced by ``SiPANN.scee`` for easy inclusion in simulations. This allows for the cascading of devices to make complex structures, giving the user multiple options (INTERCONNECT or Simphony) to cascade devices.\n",
    "\n",
    "The models can be found in ``simphony.libraries.sipann``. See the simphony docs for tutorials on how to use the SiPANN models."
   ]
  },
  {
   "cell_type": "code",
   "execution_count": null,
   "metadata": {},
   "outputs": [],
   "source": []
  }
 ],
 "metadata": {
  "kernelspec": {
   "display_name": "Python 3",
   "language": "python",
   "name": "python3"
  },
  "language_info": {
   "codemirror_mode": {
    "name": "ipython",
    "version": 3
   },
   "file_extension": ".py",
   "mimetype": "text/x-python",
   "name": "python",
   "nbconvert_exporter": "python",
   "pygments_lexer": "ipython3",
   "version": "3.7.7"
  }
 },
 "nbformat": 4,
 "nbformat_minor": 4
}
