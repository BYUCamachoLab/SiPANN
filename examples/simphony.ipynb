{
 "cells": [
  {
   "cell_type": "code",
   "execution_count": null,
   "metadata": {},
   "outputs": [],
   "source": [
    "#!/usr/bin/env python3\n",
    "# -*- coding: utf-8 -*-\n",
    "#\n",
    "# Copyright © Simphony Project Contributors\n",
    "# Licensed under the terms of the MIT License\n",
    "# (see simphony/__init__.py for details)\n",
    "\n",
    "import os\n",
    "import sys\n",
    "# sys.path.insert(0, os.path.abspath(os.path.join(os.path.dirname(__file__), '..')))\n",
    "\n",
    "import matplotlib.pyplot as plt\n",
    "import matplotlib.gridspec as gridspec\n",
    "import numpy as np\n",
    "\n",
    "from SiPANN import scee_simp\n",
    "from simphony.library import ebeam\n",
    "from simphony.netlist import Subcircuit\n",
    "from simphony.simulation import SweepSimulation"
   ]
  },
  {
   "cell_type": "code",
   "execution_count": null,
   "metadata": {},
   "outputs": [],
   "source": [
    "def pltAttr(x, y, title=None, legend='upper right', save=None):\n",
    "    if legend is not None:\n",
    "        plt.legend(loc=legend)\n",
    "    plt.xlabel(x)\n",
    "    plt.ylabel(y)\n",
    "    if title is not None:\n",
    "        plt.title(title)\n",
    "    if save is not None:\n",
    "        plt.savefig(save)"
   ]
  },
  {
   "cell_type": "code",
   "execution_count": null,
   "metadata": {},
   "outputs": [],
   "source": [
    "# Have rings for selecting out frequencies from the data line.\n",
    "radius = 10\n",
    "half_ring = scee_simp.HalfRing(radius=radius)\n",
    "term = ebeam.ebeam_terminator_te1550()\n",
    "\n",
    "circuit = Subcircuit()\n",
    "circuit.add([\n",
    "    (half_ring, 'input'),\n",
    "    (half_ring, 'output'),\n",
    "    (term, 'terminator')\n",
    "])\n",
    "\n",
    "circuit.elements['input'].pins = ('pass', 'midb', 'in', 'midt')\n",
    "circuit.elements['output'].pins = ('out', 'midt', 'term', 'midb')\n",
    "\n",
    "circuit.connect_many([\n",
    "    ('input', 'midb', 'output', 'midb'),\n",
    "    ('input', 'midt', 'output', 'midt'),\n",
    "    ('terminator', 'n1', 'output', 'term')\n",
    "])"
   ]
  },
  {
   "cell_type": "code",
   "execution_count": null,
   "metadata": {},
   "outputs": [],
   "source": [
    "# Behold, we can run a simulation on a single ring resonator.\n",
    "sim1 = SweepSimulation(circuit, 1500e-9, 1600e-9)\n",
    "res1 = sim1.simulate()\n",
    "\n",
    "f1, s = res1.data(res1.pinlist['in'], res1.pinlist['pass'])\n",
    "plt.plot(f1, s)\n",
    "plt.title(\"10-micron Ring Resonator\")\n",
    "plt.tight_layout()\n",
    "plt.show()"
   ]
  },
  {
   "cell_type": "code",
   "execution_count": null,
   "metadata": {},
   "outputs": [],
   "source": []
  }
 ],
 "metadata": {
  "kernelspec": {
   "display_name": "Python 3",
   "language": "python",
   "name": "python3"
  },
  "language_info": {
   "codemirror_mode": {
    "name": "ipython",
    "version": 3
   },
   "file_extension": ".py",
   "mimetype": "text/x-python",
   "name": "python",
   "nbconvert_exporter": "python",
   "pygments_lexer": "ipython3",
   "version": "3.7.4"
  }
 },
 "nbformat": 4,
 "nbformat_minor": 4
}
