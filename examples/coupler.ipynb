{
 "cells": [
  {
   "cell_type": "markdown",
   "metadata": {},
   "source": [
    "# Evanescent Waveguide Couplers\n",
    "\n",
    "Let's use the ANN and function library to formulate some evenescent waveguide couplers."
   ]
  },
  {
   "cell_type": "code",
   "execution_count": null,
   "metadata": {},
   "outputs": [],
   "source": [
    "%matplotlib inline\n",
    "\n",
    "import numpy as np\n",
    "from matplotlib import pyplot as plt\n",
    "import skrf as rf\n",
    "import sys\n",
    "from SiPANN import nn"
   ]
  },
  {
   "cell_type": "markdown",
   "metadata": {},
   "source": [
    "First, let's look at the coupler used in our RR designs."
   ]
  },
  {
   "cell_type": "code",
   "execution_count": null,
   "metadata": {},
   "outputs": [],
   "source": [
    "# Set up input parameters (everythin is in microns)\n",
    "wavelength    = np.squeeze(np.linspace(1.5,1.6,5000))\n",
    "couplerLength = 2\n",
    "gap           = 0.2\n",
    "width         = 0.5\n",
    "thickness     = 0.22\n",
    "\n",
    "S = nn.evWGcoupler_S(wavelength,width,thickness,gap,couplerLength)\n",
    "\n",
    "k = np.mean((np.abs(S[:,0,3])))\n",
    "print(k)\n",
    "(0.5 + k*np.sqrt(1-k**2)) / (0.5 - k*np.sqrt(1-k**2))"
   ]
  },
  {
   "cell_type": "code",
   "execution_count": null,
   "metadata": {},
   "outputs": [],
   "source": [
    "plt.figure()\n",
    "plt.plot(wavelength,np.abs(S[:,0,1]) ** 2)\n",
    "plt.plot(wavelength,np.abs(S[:,0,3]) ** 2)\n",
    "plt.grid(True)\n",
    "plt.show()"
   ]
  },
  {
   "cell_type": "code",
   "execution_count": null,
   "metadata": {},
   "outputs": [],
   "source": [
    "# All units are in microns\n",
    "wavelength = np.array([1.5,1.525,1.55,1.6])\n",
    "width      = 0.5\n",
    "thickness  = 0.22\n",
    "gap        = np.linspace(0.1,0.3,100)\n",
    "derivative = 1\n",
    "L     = 2\n",
    "TE0,TE1 = nn.evWGcoupler(wavelength,width,thickness,gap)\n",
    "\n",
    "k_2 = np.sin(np.pi/(2*L))\n",
    "\n",
    "# Iterate through all the waveguide widths\n",
    "plt.figure(figsize=(10, 8))\n",
    "for k in range(wavelength.size):\n",
    "    plt.subplot(2,2,k+1)\n",
    "    plt.plot(gap,TE0[k,0,0,:],label='Symmetric')\n",
    "    plt.plot(gap,TE1[k,0,0,:],label='Asymmetric')\n",
    "    plt.grid(True)\n",
    "    plt.title(\"Wavelength = {0:.0f} nm\".format(wavelength[k]*1e3))\n",
    "    plt.xlabel('Waveguide Gap ($\\mu$m)')\n",
    "    plt.ylabel('Effective Index')\n",
    "    plt.legend()\n",
    "plt.tight_layout()\n",
    "plt.show()"
   ]
  },
  {
   "cell_type": "markdown",
   "metadata": {},
   "source": [
    "Let's examine coupling as a function of gap distance"
   ]
  },
  {
   "cell_type": "code",
   "execution_count": null,
   "metadata": {},
   "outputs": [],
   "source": [
    "# All units are in microns\n",
    "wavelength = 1.55\n",
    "width      = 0.5\n",
    "thickness  = 0.22\n",
    "gap        = np.linspace(0.1,0.3,100)\n",
    "derivative = 1\n",
    "\n",
    "TE0,TE1    = nn.evWGcoupler(wavelength,width,thickness,gap)\n",
    "\n",
    "couplerLength     = 10\n",
    "\n",
    "n1    = np.squeeze(TE0)\n",
    "n2    = np.squeeze(TE1)\n",
    "dn = n1 - n2\n",
    "\n",
    "Beta1 = 2*np.pi*n1 / wavelength\n",
    "Beta2 = 2*np.pi*n2 / wavelength\n",
    "\n",
    "E_A   = 1/np.sqrt(4) * (np.exp(1j*Beta1*couplerLength) + np.exp(1j*Beta2*couplerLength))\n",
    "E_B   = 1/np.sqrt(4) * (np.exp(1j*Beta1*couplerLength) + np.exp(1j*Beta2*couplerLength - 1j*np.pi))\n",
    "\n",
    "k = np.abs(np.sin(np.pi*dn/wavelength * couplerLength))\n",
    "\n",
    "# Iterate through all the waveguide widths\n",
    "plt.figure(figsize=(10, 8))\n",
    "plt.subplot(2,1,1)\n",
    "plt.plot(gap,k**2)\n",
    "plt.plot(gap,np.abs(E_B)**2)\n",
    "\n",
    "plt.subplot(2,1,2)\n",
    "plt.plot(gap,np.angle(E_B))\n",
    "plt.show()"
   ]
  },
  {
   "cell_type": "code",
   "execution_count": null,
   "metadata": {},
   "outputs": [],
   "source": []
  }
 ],
 "metadata": {
  "kernelspec": {
   "display_name": "Python 3",
   "language": "python",
   "name": "python3"
  },
  "language_info": {
   "codemirror_mode": {
    "name": "ipython",
    "version": 3
   },
   "file_extension": ".py",
   "mimetype": "text/x-python",
   "name": "python",
   "nbconvert_exporter": "python",
   "pygments_lexer": "ipython3",
   "version": "3.7.7"
  }
 },
 "nbformat": 4,
 "nbformat_minor": 4
}
