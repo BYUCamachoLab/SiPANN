{
 "cells": [
  {
   "cell_type": "markdown",
   "metadata": {},
   "source": [
    "# Waveguide Neural Networks"
   ]
  },
  {
   "cell_type": "markdown",
   "metadata": {},
   "source": [
    "**In this notebook, we will use the various waveguide neural networks to explore different waveguide properties.**\n",
    "\n",
    "Specifically, we'll examine three different case studies:\n",
    "* Straight waveguides\n",
    "* Bent waveguides\n",
    "* Slot waveguides\n",
    "\n",
    "For some of these case studies, we'll also look at the group index."
   ]
  },
  {
   "cell_type": "code",
   "execution_count": null,
   "metadata": {},
   "outputs": [],
   "source": [
    "%matplotlib inline\n",
    "\n",
    "import numpy as np\n",
    "from matplotlib import pyplot as plt\n",
    "import skrf as rf\n",
    "import sys\n",
    "from SiPANN import nn"
   ]
  },
  {
   "cell_type": "markdown",
   "metadata": {},
   "source": [
    "## 1. Si Core, SiO2 Clad Straight Waveguides (`nn.straightWaveguide()`)\n",
    "\n",
    "Let's look at straight waveguides with a silicon core and a silicon dioxide cladding. We can examine the first three TE and TM effective indices for different wavelengths, waveguide widths, and waveguide thicknesses. We can also look at the group index.\n",
    "\n",
    "First, let's take a typical 500nm x 220 nm waveguide and look at the fundamental TE and TM mode effective indices as a function of wavelength:"
   ]
  },
  {
   "cell_type": "code",
   "execution_count": null,
   "metadata": {},
   "outputs": [],
   "source": [
    "# All units are in microns\n",
    "wavelength = np.linspace(1.5,1.6,100)\n",
    "width      = np.array([0.3,0.5,0.7,1])\n",
    "thickness  = 0.22\n",
    "TE0 = nn.straightWaveguide(wavelength,width,thickness)\n",
    "\n",
    "\n",
    "# Iterate through all the waveguide widths\n",
    "plt.figure(figsize=(10, 8))\n",
    "for k in range(width.size):\n",
    "    plt.subplot(2,2,k+1)\n",
    "    plt.plot(wavelength,TE0[:,k,0],label='TE0')\n",
    "#     plt.plot(wavelength,TE1[:,k,0],label='TE1')\n",
    "#     plt.plot(wavelength,TM0[:,k,0],label='TM0')\n",
    "#     plt.plot(wavelength,TM1[:,k,0],label='TM1')\n",
    "    plt.grid(True)\n",
    "    plt.title(\"Waveguide Width = {0:.0f} nm\".format(width[k]*1e3))\n",
    "    plt.xlabel('Wavelength ($\\mu$m)')\n",
    "    plt.ylabel('Effective Index')\n",
    "    plt.legend()\n",
    "plt.tight_layout()\n",
    "plt.show()"
   ]
  },
  {
   "cell_type": "markdown",
   "metadata": {},
   "source": [
    "As expected, the smaller waveguides only support the first fundamental modes. As they grow larger, however, they start to support the second order modes.\n",
    "\n",
    "Now, we can sweep the width, while holding the wavelength constant."
   ]
  },
  {
   "cell_type": "code",
   "execution_count": null,
   "metadata": {},
   "outputs": [],
   "source": [
    "# All units are in microns\n",
    "wavelength = np.array([1.5,1.525,1.55,1.6])\n",
    "width      = np.linspace(0.2,1.0,100)\n",
    "thickness  = 0.22\n",
    "\n",
    "# This is the only function needed\n",
    "TE0 = nn.straightWaveguide(wavelength,width,thickness)\n",
    "# The outputs are each multidimensional arrays to reflect each of the possible input parameters.\n",
    "\n",
    "# Iterate through all the waveguide widths\n",
    "plt.figure(figsize=(10, 8))\n",
    "for k in range(wavelength.size):\n",
    "    plt.subplot(2,2,k+1)\n",
    "    plt.plot(width,TE0[k,:,0],label='TE0')\n",
    "#     plt.plot(width,TE1[k,:,0],label='TE1')\n",
    "#     plt.plot(width,TM0[k,:,0],'--',label='TM0')\n",
    "#     plt.plot(width,TM1[k,:,0],'--',label='TM1')\n",
    "    plt.grid(True)\n",
    "    plt.title(\"Wavelength = {0:.0f} nm\".format(wavelength[k]*1e3))\n",
    "    plt.xlabel('Waveguide Width ($\\mu$m)')\n",
    "    plt.ylabel('Effective Index')\n",
    "    plt.legend()\n",
    "plt.tight_layout()\n",
    "plt.show()"
   ]
  },
  {
   "cell_type": "markdown",
   "metadata": {},
   "source": [
    "Next, we can examine the group delay of the waveguides using the following relation:\n",
    "$$n_g=n-\\lambda_0\\frac{dn}{d\\lambda_0} $$\n",
    "where $\\lambda_0$ is the vacuum wavelength.\n",
    "\n",
    "We can easily pull both $n$ and $\\frac{dn}{d\\lambda_0}$ from the neural network. In fact, the derivative term is analytic, avoiding any discretization."
   ]
  },
  {
   "cell_type": "code",
   "execution_count": null,
   "metadata": {},
   "outputs": [],
   "source": [
    "# All units are in microns\n",
    "wavelength = np.linspace(1.5,1.6,100)\n",
    "width      = np.array([0.3,0.5,0.7,1])\n",
    "thickness  = 0.22\n",
    "derivative = 1\n",
    "TE0 = nn.straightWaveguide(wavelength,width,thickness)\n",
    "dTE0 = nn.straightWaveguide(wavelength,width,thickness,derivative=derivative)[:,:,:,:,0]\n",
    "\n",
    "ngTE0 = TE0 - wavelength * dTE0\n",
    "# ngTE1 = TE1 - wavelength * dTE1\n",
    "# ngTE2 = TE2 - wavelength * dTE2\n",
    "# ngTM0 = TM0 - wavelength * dTM0\n",
    "# ngTM1 = TM1 - wavelength * dTM1\n",
    "# ngTM2 = TM2 - wavelength * dTM2\n",
    "\n",
    "\n",
    "# Iterate through all the waveguide widths\n",
    "plt.figure(figsize=(10, 8))\n",
    "for k in range(width.size):\n",
    "    plt.subplot(2,2,k+1)\n",
    "    plt.plot(wavelength,ngTE0[:,k,0,0],label='TE0')\n",
    "#     plt.plot(wavelength,ngTE1[:,k,0],label='TE1')\n",
    "#     plt.plot(wavelength,ngTM0[:,k,0],label='TM0')\n",
    "#     plt.plot(wavelength,ngTM1[:,k,0],label='TM1')\n",
    "    plt.grid(True)\n",
    "    plt.title(\"Waveguide Width = {0:.0f} nm\".format(width[k]*1e3))\n",
    "    plt.xlabel('Wavelength ($\\mu$m)')\n",
    "    plt.ylabel('Group Index')\n",
    "    plt.legend()\n",
    "plt.tight_layout()\n",
    "plt.show()"
   ]
  },
  {
   "cell_type": "markdown",
   "metadata": {},
   "source": [
    "## 2. Bent waveguides\n",
    "\n",
    "We can also evaluate bent waveguides"
   ]
  },
  {
   "cell_type": "code",
   "execution_count": null,
   "metadata": {},
   "outputs": [],
   "source": [
    "# All units are in microns\n",
    "wavelength = np.linspace(1.5,1.6,100)\n",
    "width      = 0.5\n",
    "thickness  = 0.22\n",
    "radius     = np.array([5,10,20,40])\n",
    "TE0 = nn.bentWaveguide(wavelength,width,thickness,radius)\n",
    "\n",
    "\n",
    "# Iterate through all the waveguide widths\n",
    "plt.figure(figsize=(10, 8))\n",
    "for k in range(radius.size):\n",
    "    plt.subplot(2,2,k+1)\n",
    "    plt.plot(wavelength,np.real(TE0[:,0,0,k]),label='Real')\n",
    "    #plt.plot(wavelength,TE1[:,0,0,k],label='Asymmetric')\n",
    "    plt.grid(True)\n",
    "    plt.title(\"Bend Radius = {0:.0f} $\\mu$m\".format(radius[k]))\n",
    "    plt.xlabel('Wavelength ($\\mu$m)')\n",
    "    plt.ylabel('Effective Index')\n",
    "    plt.legend()\n",
    "plt.tight_layout()\n",
    "plt.show()"
   ]
  },
  {
   "cell_type": "code",
   "execution_count": null,
   "metadata": {},
   "outputs": [],
   "source": [
    "# All units are in microns\n",
    "wavelength = np.array([1.5,1.525,1.55,1.6])\n",
    "width      = 0.5\n",
    "thickness  = 0.22\n",
    "radius     = np.linspace(5,25,100)\n",
    "TE0 = nn.bentWaveguide(wavelength,width,thickness,radius)\n",
    "\n",
    "\n",
    "# Iterate through all the waveguide widths\n",
    "plt.figure(figsize=(10, 8))\n",
    "for k in range(wavelength.size):\n",
    "    plt.subplot(2,2,k+1)\n",
    "    plt.plot(radius,np.real(TE0[k,0,0,:]),label='Real')\n",
    "    #plt.plot(wavelength,TE1[:,0,0,k],label='Asymmetric')\n",
    "    plt.grid(True)\n",
    "    plt.title(\"Wavelength = {0:.0f} nm\".format(wavelength[k]*1e3))\n",
    "    plt.xlabel('Radius ($\\mu$m)')\n",
    "    plt.ylabel('Effective Index')\n",
    "    plt.legend()\n",
    "plt.tight_layout()\n",
    "plt.show()"
   ]
  },
  {
   "cell_type": "markdown",
   "metadata": {},
   "source": [
    "## 3. Evanescently Coupled Wavguides\n",
    "\n",
    "Now we'll take a look at waveguides that act as evanescent waveguide couplers."
   ]
  },
  {
   "cell_type": "code",
   "execution_count": null,
   "metadata": {},
   "outputs": [],
   "source": [
    "# All units are in microns\n",
    "wavelength = np.linspace(1.5,1.6,100)\n",
    "width      = 0.5\n",
    "thickness  = 0.22\n",
    "gap        = np.array([0.05,0.1,0.2,0.3])\n",
    "derivative = 1\n",
    "TE0,TE1 = nn.evWGcoupler(wavelength,width,thickness,gap)\n",
    "\n",
    "\n",
    "# Iterate through all the waveguide widths\n",
    "plt.figure(figsize=(10, 8))\n",
    "for k in range(gap.size):\n",
    "    plt.subplot(2,2,k+1)\n",
    "    plt.plot(wavelength,TE0[:,0,0,k],label='Symmetric')\n",
    "    plt.plot(wavelength,TE1[:,0,0,k],label='Asymmetric')\n",
    "    plt.grid(True)\n",
    "    plt.title(\"Waveguide Gap = {0:.0f} nm\".format(gap[k]*1e3))\n",
    "    plt.xlabel('Wavelength ($\\mu$m)')\n",
    "    plt.ylabel('Effective Index')\n",
    "    plt.legend()\n",
    "plt.tight_layout()\n",
    "plt.show()"
   ]
  },
  {
   "cell_type": "markdown",
   "metadata": {},
   "source": [
    "We can also sweep across the gap at multiple wavelength points."
   ]
  },
  {
   "cell_type": "code",
   "execution_count": null,
   "metadata": {},
   "outputs": [],
   "source": [
    "# All units are in microns\n",
    "wavelength = np.array([1.5,1.525,1.55,1.6])\n",
    "width      = 0.5\n",
    "thickness  = 0.22\n",
    "gap        = np.linspace(0.1,0.3,100)\n",
    "derivative = 1\n",
    "TE0,TE1 = nn.evWGcoupler(wavelength,width,thickness,gap)\n",
    "\n",
    "# Iterate through all the waveguide widths\n",
    "plt.figure(figsize=(10, 8))\n",
    "for k in range(wavelength.size):\n",
    "    plt.subplot(2,2,k+1)\n",
    "    plt.plot(gap,TE0[k,0,0,:],label='Symmetric')\n",
    "    plt.plot(gap,TE1[k,0,0,:],label='Asymmetric')\n",
    "    plt.grid(True)\n",
    "    plt.title(\"Wavelength = {0:.0f} nm\".format(wavelength[k]*1e3))\n",
    "    plt.xlabel('Waveguide Gap ($\\mu$m)')\n",
    "    plt.ylabel('Effective Index')\n",
    "    plt.legend()\n",
    "plt.tight_layout()\n",
    "plt.show()"
   ]
  },
  {
   "cell_type": "code",
   "execution_count": null,
   "metadata": {},
   "outputs": [],
   "source": []
  }
 ],
 "metadata": {
  "kernelspec": {
   "display_name": "Python 3",
   "language": "python",
   "name": "python3"
  },
  "language_info": {
   "codemirror_mode": {
    "name": "ipython",
    "version": 3
   },
   "file_extension": ".py",
   "mimetype": "text/x-python",
   "name": "python",
   "nbconvert_exporter": "python",
   "pygments_lexer": "ipython3",
   "version": "3.7.7"
  }
 },
 "nbformat": 4,
 "nbformat_minor": 4
}
