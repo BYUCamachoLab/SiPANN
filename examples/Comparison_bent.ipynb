{
 "cells": [
  {
   "cell_type": "code",
   "execution_count": null,
   "metadata": {},
   "outputs": [],
   "source": [
    "%matplotlib inline\n",
    "\n",
    "import numpy as np\n",
    "from matplotlib import pyplot as plt\n",
    "import skrf as rf\n",
    "import sys\n",
    "from SiPANN import nn"
   ]
  },
  {
   "cell_type": "markdown",
   "metadata": {},
   "source": [
    "#### Let's load in the original training set"
   ]
  },
  {
   "cell_type": "code",
   "execution_count": null,
   "metadata": {},
   "outputs": [],
   "source": [
    "data = np.load('tight_bent.npz')\n",
    "INPUT = data['INPUT']\n",
    "OUTPUT = data['OUTPUT']"
   ]
  },
  {
   "cell_type": "markdown",
   "metadata": {},
   "source": [
    "#### Let's find the real and imaginary parts from the training sets for as simple case:"
   ]
  },
  {
   "cell_type": "code",
   "execution_count": null,
   "metadata": {},
   "outputs": [],
   "source": [
    "# Find first index\n",
    "index1 = np.argmin(np.sum(np.abs(INPUT - [1.5,0.5,0.2,12]) ** 2,axis=1))\n",
    "# Find last index\n",
    "index2 = np.argmin(np.sum(np.abs(INPUT - [1.6,0.5,0.2,12]) ** 2,axis=1))\n",
    "\n",
    "# Build INPUT and OUTPUT subset\n",
    "INPUT_sub  = INPUT[index1:index2,:]\n",
    "OUTPUT_sub = OUTPUT[index1:index2,:]\n",
    "\n",
    "#add on angle\n",
    "INPUT_sub = np.hstack( (INPUT_sub, np.ones((INPUT_sub.shape[0],1))*90) )"
   ]
  },
  {
   "cell_type": "markdown",
   "metadata": {},
   "source": [
    "#### Now we will evaluate the same input through the ANN"
   ]
  },
  {
   "cell_type": "code",
   "execution_count": null,
   "metadata": {},
   "outputs": [],
   "source": [
    "OUTPUT_ANN = nn.ANN_bent.output(INPUT_sub)"
   ]
  },
  {
   "cell_type": "markdown",
   "metadata": {},
   "source": [
    "#### Finally we plot and compare the results"
   ]
  },
  {
   "cell_type": "code",
   "execution_count": null,
   "metadata": {},
   "outputs": [],
   "source": [
    "plt.figure(figsize=(10, 4))\n",
    "\n",
    "plt.subplot(1,2,1)\n",
    "plt.title('Real Part')\n",
    "plt.plot(INPUT_sub[:,0],np.real(OUTPUT_sub),linewidth=2,label='Training Set')\n",
    "plt.plot(INPUT_sub[:,0],OUTPUT_ANN[:,0],'--',linewidth=2,label='ANN')\n",
    "plt.grid(True)\n",
    "plt.legend()\n",
    "\n",
    "plt.subplot(1,2,2)\n",
    "plt.title('Imaginary Part')\n",
    "plt.plot(INPUT_sub[:,0],np.imag(OUTPUT_sub),linewidth=2,label='Training Set')\n",
    "plt.plot(INPUT_sub[:,0],OUTPUT_ANN[:,1],'--',linewidth=2,label='ANN')\n",
    "plt.grid(True)\n",
    "plt.legend()\n",
    "\n",
    "plt.tight_layout()\n",
    "plt.show()"
   ]
  },
  {
   "cell_type": "markdown",
   "metadata": {},
   "source": [
    "Everything looks much better!"
   ]
  },
  {
   "cell_type": "code",
   "execution_count": null,
   "metadata": {},
   "outputs": [],
   "source": []
  }
 ],
 "metadata": {
  "kernelspec": {
   "display_name": "Python 3",
   "language": "python",
   "name": "python3"
  },
  "language_info": {
   "codemirror_mode": {
    "name": "ipython",
    "version": 3
   },
   "file_extension": ".py",
   "mimetype": "text/x-python",
   "name": "python",
   "nbconvert_exporter": "python",
   "pygments_lexer": "ipython3",
   "version": "3.7.7"
  }
 },
 "nbformat": 4,
 "nbformat_minor": 4
}
