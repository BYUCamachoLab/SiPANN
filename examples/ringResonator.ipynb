{
 "cells": [
  {
   "cell_type": "code",
   "execution_count": 10,
   "metadata": {},
   "outputs": [],
   "source": [
    "%matplotlib inline\n",
    "\n",
    "import numpy as np\n",
    "from matplotlib import pyplot as plt\n",
    "import skrf as rf\n",
    "import sys\n",
    "from SiPANN import SiP\n",
    "from ipywidgets import interact, interactive, fixed, interact_manual\n",
    "import ipywidgets as widgets\n",
    "from IPython.display import display"
   ]
  },
  {
   "cell_type": "code",
   "execution_count": 14,
   "metadata": {},
   "outputs": [
    {
     "data": {
      "application/vnd.jupyter.widget-view+json": {
       "model_id": "a9403e45230f45a18dbb48cb451e5b4e",
       "version_major": 2,
       "version_minor": 0
      },
      "text/plain": [
       "interactive(children=(FloatSlider(value=12.0, description='radius', max=13.0, min=11.0, step=0.01), FloatSlide…"
      ]
     },
     "metadata": {},
     "output_type": "display_data"
    },
    {
     "data": {
      "text/plain": [
       "<Figure size 720x576 with 0 Axes>"
      ]
     },
     "metadata": {},
     "output_type": "display_data"
    }
   ],
   "source": [
    "# Set up input parameters\n",
    "wavelength    = np.squeeze(np.linspace(1.5,1.6,5000))\n",
    "#radius        = 12\n",
    "#couplerLength = 2\n",
    "#sideLength    = 5\n",
    "#gap           = 0.14\n",
    "#width         = 0.5\n",
    "#thickness     = 0.22\n",
    "\n",
    "# Calculate the scattering matrix\n",
    "fig =   plt.figure(figsize=(10, 8))\n",
    "def f(radius,couplerLength,gap,width,thickness):\n",
    "    output = SiP.racetrack_AP_RR_TF(wavelength,radius=radius,couplerLength=couplerLength,gap=gap,width=width,thickness=thickness)\n",
    "\n",
    "    # Evaluate response\n",
    "    input       = np.squeeze([1,0])\n",
    "    throughPort = 10*np.log10(np.abs(np.squeeze(output)) ** 2)\n",
    "\n",
    "    # Visualize\n",
    "\n",
    "    fig.clf()\n",
    "    plt.plot(wavelength,(throughPort),label='Through Port')\n",
    "    plt.xlabel('Wavelength ($\\mu$m)')\n",
    "    plt.ylabel('Power (a.u.)')\n",
    "    plt.grid(True)\n",
    "    plt.legend()\n",
    "    plt.ylim(-30, 0.1)\n",
    "    plt.tight_layout()\n",
    "\n",
    "    plt.show()\n",
    "\n",
    "interactive_plot = interactive(f, \n",
    "                               radius=(11.0, 13.0,0.01), \n",
    "                               couplerLength=(1.8,2.2,0.01),\n",
    "                               gap = (0.100,0.300,0.01),\n",
    "                               width = (0.45,0.55,0.01),\n",
    "                               thickness = (0.18,0.25,0.01),\n",
    "                               continuous_update=False\n",
    "                              )\n",
    "output = interactive_plot.children[-1]\n",
    "output.layout.height = '350px'\n",
    "interactive_plot"
   ]
  },
  {
   "cell_type": "code",
   "execution_count": null,
   "metadata": {},
   "outputs": [],
   "source": []
  },
  {
   "cell_type": "code",
   "execution_count": null,
   "metadata": {},
   "outputs": [],
   "source": []
  },
  {
   "cell_type": "code",
   "execution_count": null,
   "metadata": {},
   "outputs": [],
   "source": []
  }
 ],
 "metadata": {
  "kernelspec": {
   "display_name": "Python 3",
   "language": "python",
   "name": "python3"
  },
  "language_info": {
   "codemirror_mode": {
    "name": "ipython",
    "version": 3
   },
   "file_extension": ".py",
   "mimetype": "text/x-python",
   "name": "python",
   "nbconvert_exporter": "python",
   "pygments_lexer": "ipython3",
   "version": "3.6.8"
  }
 },
 "nbformat": 4,
 "nbformat_minor": 2
}
