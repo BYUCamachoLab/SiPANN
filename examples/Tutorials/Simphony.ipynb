{
 "cells": [
  {
   "cell_type": "markdown",
   "metadata": {},
   "source": [
    "# SCEE and Simphony"
   ]
  },
  {
   "cell_type": "markdown",
   "metadata": {},
   "source": [
    "SiPANN includes a module that wraps all of the models produced by SCEE for easy use in [simphony](https://simphonyphotonics.readthedocs.io/en/latest/), allowing for cascading devices to make complex structures. This gives the user multiple options (Interconnect or Simphony) to cascade devices.\n",
    "\n",
    "The SCEE wrapper can be found in `SiPANN.scee_int`."
   ]
  },
  {
   "cell_type": "code",
   "execution_count": null,
   "metadata": {},
   "outputs": [],
   "source": [
    "from SiPANN import scee\n",
    "from SiPANN.scee_int import SimphonyWrapper\n",
    "\n",
    "from simphony.library import ebeam\n",
    "from simphony.netlist import Subcircuit\n",
    "from simphony.simulation import SweepSimulation, MonteCarloSweepSimulation\n",
    "\n",
    "import matplotlib.pyplot as plt\n",
    "import numpy as np\n",
    "\n",
    "def pltAttr(x, y, title=None, legend='upper right', save=None):\n",
    "    if legend is not None:\n",
    "        plt.legend(loc=legend)\n",
    "    plt.xlabel(x)\n",
    "    plt.ylabel(y)\n",
    "    if title is not None:\n",
    "        plt.title(title)\n",
    "    if save is not None:\n",
    "        plt.savefig(save)"
   ]
  },
  {
   "cell_type": "markdown",
   "metadata": {},
   "source": [
    "## Standard Simulation"
   ]
  },
  {
   "cell_type": "markdown",
   "metadata": {},
   "source": [
    "First we'll make our device like we always have using `SiPANN.scee`."
   ]
  },
  {
   "cell_type": "code",
   "execution_count": null,
   "metadata": {},
   "outputs": [],
   "source": [
    "r = 10000\n",
    "w = 500\n",
    "t = 220\n",
    "wavelength = np.linspace(1500, 1600)\n",
    "gap = 100\n",
    "\n",
    "hr = scee.HalfRing(w, t, r, gap)"
   ]
  },
  {
   "cell_type": "markdown",
   "metadata": {},
   "source": [
    "Simply put our device into the simphony wrapper."
   ]
  },
  {
   "cell_type": "code",
   "execution_count": null,
   "metadata": {},
   "outputs": [],
   "source": [
    "s_hr = SimphonyWrapper(hr)"
   ]
  },
  {
   "cell_type": "markdown",
   "metadata": {},
   "source": [
    "Then use in simphony like you would any other device. Here we'll make a ring resonator as an example."
   ]
  },
  {
   "cell_type": "code",
   "execution_count": null,
   "metadata": {},
   "outputs": [],
   "source": [
    "def make_ring(half_ring):\n",
    "    term = ebeam.ebeam_terminator_te1550()\n",
    "\n",
    "    circuit = Subcircuit()\n",
    "    circuit.add([\n",
    "        (half_ring, 'input'),\n",
    "        (half_ring, 'output'),\n",
    "        (term, 'terminator')\n",
    "    ])\n",
    "\n",
    "    circuit.elements['input'].pins = ('pass', 'midb', 'in', 'midt')\n",
    "    circuit.elements['output'].pins = ('out', 'midt', 'term', 'midb')\n",
    "\n",
    "    circuit.connect_many([\n",
    "        ('input', 'midb', 'output', 'midb'),\n",
    "        ('input', 'midt', 'output', 'midt'),\n",
    "        ('terminator', 'n1', 'output', 'term')\n",
    "    ])\n",
    "    \n",
    "    return circuit"
   ]
  },
  {
   "cell_type": "code",
   "execution_count": null,
   "metadata": {},
   "outputs": [],
   "source": [
    "# Simphony takes in wavelength values in meters\n",
    "circuit = make_ring(s_hr)\n",
    "sim1 = SweepSimulation(circuit, 1500e-9, 1600e-9)\n",
    "res1 = sim1.simulate()\n",
    "\n",
    "f1, s = res1.data(res1.pinlist['in'], res1.pinlist['pass'])\n",
    "plt.figure(figsize=(10,6))\n",
    "plt.plot(f1, s)\n",
    "pltAttr('Frequency (Hz)', 'Magnitude', \"10-micron Ring Resonator\")\n",
    "plt.tight_layout()\n",
    "plt.show()"
   ]
  },
  {
   "cell_type": "markdown",
   "metadata": {},
   "source": [
    "## Monte-Carlo Simulations"
   ]
  },
  {
   "cell_type": "markdown",
   "metadata": {},
   "source": [
    "`SimphonyWrapper` also functions with monte_carlo simulations. It allows ANY of the parameters set in SiPANN to be used. To use it you must include a dictionary mapping the parameter you wish to perturb to a standard deviation in nm. "
   ]
  },
  {
   "cell_type": "code",
   "execution_count": null,
   "metadata": {},
   "outputs": [],
   "source": [
    "sigmas = {\"width\": 2, \"thickness\": 1}\n",
    "s_hr = SimphonyWrapper(hr, sigmas)"
   ]
  },
  {
   "cell_type": "markdown",
   "metadata": {},
   "source": [
    "And then simply make our circuit as before, and run through monte-carlo simulations"
   ]
  },
  {
   "cell_type": "code",
   "execution_count": null,
   "metadata": {},
   "outputs": [],
   "source": [
    "circuit = make_ring(s_hr)\n",
    "#run monte carlo simulation\n",
    "simulation = MonteCarloSweepSimulation(circuit, 1500e-9, 1600e-9)\n",
    "runs = 5\n",
    "result = simulation.simulate(runs=runs)\n",
    "\n",
    "#plot\n",
    "plt.figure(figsize=(10,6))\n",
    "for i in range(1, runs + 1):\n",
    "    f, s = result.data('in', 'pass', i)\n",
    "    plt.plot(f, s)\n",
    "\n",
    "# The data located at the 0 position is the ideal values.\n",
    "f, s = result.data('in', 'pass', 0)\n",
    "plt.plot(f, s, 'k')\n",
    "pltAttr('Frequency (Hz)', 'Magnitude', \"10-micron RR Monte-Carlo (width and thickness)\", legend=None)\n",
    "plt.tight_layout()\n",
    "plt.show()"
   ]
  },
  {
   "cell_type": "markdown",
   "metadata": {},
   "source": [
    "As an example, we'll do another simulation, but this time varying radius of the ring only. Note we could vary both sides of the ring independently as well (ie the gap distance on each side isn't necessarily going to be equal), but for simplicity using our `make_ring` function we have identical halves."
   ]
  },
  {
   "cell_type": "code",
   "execution_count": null,
   "metadata": {},
   "outputs": [],
   "source": [
    "sigmas = {\"radius\": 20}\n",
    "s_hr = SimphonyWrapper(hr, sigmas)\n",
    "\n",
    "circuit = make_ring(s_hr)\n",
    "#run monte carlo simulation\n",
    "simulation = MonteCarloSweepSimulation(circuit, 1500e-9, 1600e-9)\n",
    "runs = 5\n",
    "result = simulation.simulate(runs=runs)\n",
    "\n",
    "#plot\n",
    "plt.figure(figsize=(10,6))\n",
    "for i in range(1, runs + 1):\n",
    "    f, s = result.data('in', 'pass', i)\n",
    "    plt.plot(f, s)\n",
    "\n",
    "# The data located at the 0 position is the ideal values.\n",
    "f, s = result.data('in', 'pass', 0)\n",
    "plt.plot(f, s, 'k')\n",
    "pltAttr('Frequency (Hz)', 'Magnitude', \"10-micron RR Monte-Carlo (radius)\", legend=None)\n",
    "plt.tight_layout()\n",
    "plt.show()"
   ]
  },
  {
   "cell_type": "markdown",
   "metadata": {},
   "source": [
    "This is available as a jupyter notebook [here](https://github.com/contagon/SiPANN/blob/master/examples/Tutorials/Simphony.ipynb)"
   ]
  },
  {
   "cell_type": "code",
   "execution_count": null,
   "metadata": {},
   "outputs": [],
   "source": []
  }
 ],
 "metadata": {
  "kernelspec": {
   "display_name": "Python 3",
   "language": "python",
   "name": "python3"
  },
  "language_info": {
   "codemirror_mode": {
    "name": "ipython",
    "version": 3
   },
   "file_extension": ".py",
   "mimetype": "text/x-python",
   "name": "python",
   "nbconvert_exporter": "python",
   "pygments_lexer": "ipython3",
   "version": "3.7.7"
  }
 },
 "nbformat": 4,
 "nbformat_minor": 4
}
