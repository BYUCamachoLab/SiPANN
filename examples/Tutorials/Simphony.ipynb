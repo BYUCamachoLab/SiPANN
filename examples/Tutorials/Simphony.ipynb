{
 "cells": [
  {
   "cell_type": "markdown",
   "metadata": {},
   "source": [
    "# SCEE and Simphony"
   ]
  },
  {
   "cell_type": "markdown",
   "metadata": {},
   "source": [
    "SiPANN includes a module that wraps all of the models produced by SCEE for easy use in [simphony](https://simphonyphotonics.readthedocs.io/en/latest/), allowing for cascading devices to make complex structures. This gives the user multiple options (Interconnect or Simphony) to cascade devices.\n",
    "\n",
    "The SCEE wrapper can be found in `SiPANN.scee_simp` and "
   ]
  }
 ],
 "metadata": {
  "kernelspec": {
   "display_name": "Python 3",
   "language": "python",
   "name": "python3"
  },
  "language_info": {
   "codemirror_mode": {
    "name": "ipython",
    "version": 3
   },
   "file_extension": ".py",
   "mimetype": "text/x-python",
   "name": "python",
   "nbconvert_exporter": "python",
   "pygments_lexer": "ipython3",
   "version": "3.7.4"
  }
 },
 "nbformat": 4,
 "nbformat_minor": 4
}
