{
 "cells": [
  {
   "cell_type": "markdown",
   "metadata": {},
   "source": [
    "# Premade Couplers via Inverse Design\n",
    "\n",
    "Using an inverse design optimizer and SCEE, various power splitting couplers at various splitting ratios have been designed and saved for future use. These can be loaded using `SiPANN.scee_opt.premade_coupler` module. We'll go through how to load them here."
   ]
  },
  {
   "cell_type": "code",
   "execution_count": null,
   "metadata": {},
   "outputs": [],
   "source": [
    "import numpy as np\n",
    "import matplotlib.pyplot as plt\n",
    "from SiPANN import scee_opt, scee\n",
    "\n",
    "def pltAttr(x, y, title=None, legend='upper right', save=None):\n",
    "    if legend is not None:\n",
    "        plt.legend(loc=legend)\n",
    "    plt.xlabel(x)\n",
    "    plt.ylabel(y)\n",
    "    if title is not None:\n",
    "        plt.title(title)\n",
    "    if save is not None:\n",
    "        plt.savefig(save)"
   ]
  },
  {
   "cell_type": "markdown",
   "metadata": {},
   "source": [
    "## Crossover"
   ]
  },
  {
   "cell_type": "markdown",
   "metadata": {},
   "source": [
    "Premade couplers can be loaded via the `SiPANN.scee_opt.premade_coupler` function. It takes in a desired percentage output of the throughport. The only percentages available are 10, 20, 30, 40, 50, and 100 (crossover). It returns a instance of `SiPANN.scee.GapFuncSymmetric` with all it's usual functions and abilities, along with the coupler length in nanometers.\n",
    "\n",
    "If you desire other ratios, see the tutorial on `SiPANN.scee_opt.make_coupler`, where the inverse design optimizer can be used to make arbitrary splitting ratios."
   ]
  },
  {
   "cell_type": "code",
   "execution_count": null,
   "metadata": {},
   "outputs": [],
   "source": [
    "crossover, length = scee_opt.premade_coupler(100)\n",
    "crossover.gds(view=True,extra=0,units='microns')"
   ]
  },
  {
   "cell_type": "markdown",
   "metadata": {},
   "source": [
    "![crossover](PreMadeCouplers_files/crossover.png)"
   ]
  },
  {
   "cell_type": "code",
   "execution_count": null,
   "metadata": {},
   "outputs": [],
   "source": [
    "wavelength = np.linspace(1500, 1600, 500)\n",
    "k = crossover.predict((1,4), wavelength)\n",
    "t = crossover.predict((1,3), wavelength)\n",
    "\n",
    "plt.figure(figsize=(15,5))\n",
    "plt.subplot(121)\n",
    "plt.plot(wavelength, np.abs(k)**2, label='k')\n",
    "plt.plot(wavelength, np.abs(t)**2, label='t')\n",
    "pltAttr('Wavelength (nm)', 'Magnitude Squared', 'Crossover at $\\lambda \\approx 1550nm$')\n",
    "plt.subplot(122)\n",
    "plt.plot(wavelength, np.unwrap(np.angle(k)), label='k')\n",
    "plt.plot(wavelength, np.unwrap(np.angle(t)), label='t')\n",
    "pltAttr('Wavelength (nm)', 'Phase (rad)', 'Crossover at $\\lambda \\approx 1550nm$')"
   ]
  },
  {
   "cell_type": "markdown",
   "metadata": {},
   "source": [
    "## 30/70 Splitter"
   ]
  },
  {
   "cell_type": "markdown",
   "metadata": {},
   "source": [
    "For further demonstration, we also load a 30/70 splitter."
   ]
  },
  {
   "cell_type": "code",
   "execution_count": null,
   "metadata": {},
   "outputs": [],
   "source": [
    "splitter, length = scee_opt.premade_coupler(30)\n",
    "splitter.gds(view=True,extra=0,units='microns')"
   ]
  },
  {
   "cell_type": "markdown",
   "metadata": {},
   "source": [
    "![splitter](PreMadeCouplers_files/splitter.png)"
   ]
  },
  {
   "cell_type": "code",
   "execution_count": null,
   "metadata": {},
   "outputs": [],
   "source": [
    "wavelength = np.linspace(1500, 1600, 500)\n",
    "k = splitter.predict((1,4), wavelength)\n",
    "t = splitter.predict((1,3), wavelength)\n",
    "\n",
    "plt.figure(figsize=(15,5))\n",
    "plt.subplot(121)\n",
    "plt.axhline(.3, c='k', label=\"Desired Ratios\")\n",
    "plt.axhline(.7, c='k')\n",
    "plt.plot(wavelength, np.abs(k)**2, label='k')\n",
    "plt.plot(wavelength, np.abs(t)**2, label='t')\n",
    "pltAttr('Wavelength (nm)', 'Magnitude Squared', '30/70 Splitter', legend='center left')\n",
    "plt.subplot(122)\n",
    "plt.plot(wavelength, np.unwrap(np.angle(k)), label='k')\n",
    "plt.plot(wavelength, np.unwrap(np.angle(t)), label='t')\n",
    "pltAttr('Wavelength (nm)', 'Phase (rad)', '30/70 Splitter')"
   ]
  },
  {
   "cell_type": "markdown",
   "metadata": {},
   "source": [
    "If you'd like this tutorial as a jupyter notebook, it can be found on github, [here](https://github.com/contagon/SiPANN/blob/master/examples/Tutorials/PreMadeCouplers.ipynb)"
   ]
  },
  {
   "cell_type": "code",
   "execution_count": null,
   "metadata": {},
   "outputs": [],
   "source": []
  }
 ],
 "metadata": {
  "kernelspec": {
   "display_name": "Python 3",
   "language": "python",
   "name": "python3"
  },
  "language_info": {
   "codemirror_mode": {
    "name": "ipython",
    "version": 3
   },
   "file_extension": ".py",
   "mimetype": "text/x-python",
   "name": "python",
   "nbconvert_exporter": "python",
   "pygments_lexer": "ipython3",
   "version": "3.7.7"
  }
 },
 "nbformat": 4,
 "nbformat_minor": 4
}
