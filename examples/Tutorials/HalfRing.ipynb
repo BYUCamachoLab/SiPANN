{
 "cells": [
  {
   "cell_type": "markdown",
   "metadata": {},
   "source": [
    "# Half Ring Resonator"
   ]
  },
  {
   "cell_type": "markdown",
   "metadata": {},
   "source": [
    "We'll briefly show you how to simulate a half ring resonator using `SiPANN.scee`.\n",
    "\n",
    "First do the imports"
   ]
  },
  {
   "cell_type": "code",
   "execution_count": null,
   "metadata": {},
   "outputs": [],
   "source": [
    "import numpy as np\n",
    "import matplotlib.pyplot as plt\n",
    "from SiPANN.scee import HalfRing\n",
    "\n",
    "def pltAttr(x, y, title=None, legend='upper right', save=None):\n",
    "    if legend is not None:\n",
    "        plt.legend(loc=legend)\n",
    "    plt.xlabel(x)\n",
    "    plt.ylabel(y)\n",
    "    if title is not None:\n",
    "        plt.title(title)\n",
    "    if save is not None:\n",
    "        plt.savefig(save)"
   ]
  },
  {
   "cell_type": "markdown",
   "metadata": {},
   "source": [
    "Declare all of our geometries (note they're all in nm)"
   ]
  },
  {
   "cell_type": "code",
   "execution_count": null,
   "metadata": {},
   "outputs": [],
   "source": [
    "r = 10000\n",
    "w = 500\n",
    "t = 220\n",
    "wavelength = np.linspace(1500, 1600)\n",
    "gap = 100"
   ]
  },
  {
   "cell_type": "markdown",
   "metadata": {},
   "source": [
    "And we can simulate using either `Halfring.sparams` or `Halfring.predict()`. Using `predict()` this looks like"
   ]
  },
  {
   "cell_type": "code",
   "execution_count": null,
   "metadata": {},
   "outputs": [],
   "source": [
    "hr = HalfRing(w, t, r, gap)\n",
    "k = hr.predict((1,4), wavelength)\n",
    "t = hr.predict((1,3), wavelength)"
   ]
  },
  {
   "cell_type": "markdown",
   "metadata": {},
   "source": [
    "And if you want to visualize what the device looks like,"
   ]
  },
  {
   "cell_type": "code",
   "execution_count": null,
   "metadata": {},
   "outputs": [],
   "source": [
    "hr.gds(view=True,extra=0,units='microns')"
   ]
  },
  {
   "cell_type": "markdown",
   "metadata": {},
   "source": [
    "![halfring](HalfRing_files/gdsView.png)"
   ]
  },
  {
   "cell_type": "markdown",
   "metadata": {},
   "source": [
    "And plotting the output gives us"
   ]
  },
  {
   "cell_type": "code",
   "execution_count": null,
   "metadata": {},
   "outputs": [],
   "source": [
    "plt.figure(figsize=(15,5))\n",
    "plt.subplot(121)\n",
    "plt.plot(wavelength, np.abs(k)**2, label='k')\n",
    "plt.plot(wavelength, np.abs(t)**2, label='t')\n",
    "pltAttr('Wavelength (nm)', 'Magnitude Squared', 'HalfRing 10 Microns')\n",
    "plt.subplot(122)\n",
    "plt.plot(wavelength, np.unwrap(np.angle(k)), label='k')\n",
    "plt.plot(wavelength, np.unwrap(np.angle(t)), label='t')\n",
    "pltAttr('Wavelength (nm)', 'Phase (rad)', 'HalfRing 10 Microns')"
   ]
  },
  {
   "cell_type": "markdown",
   "metadata": {},
   "source": [
    "SCEE also supports sweeping over geometries while holding wavelengths fixed. This can be done as:"
   ]
  },
  {
   "cell_type": "code",
   "execution_count": null,
   "metadata": {},
   "outputs": [],
   "source": [
    "r = np.linspace(5000, 50000, 100)\n",
    "wavelength = 1550\n",
    "hr.update(radius=r)\n",
    "\n",
    "k = hr.predict((1,4), wavelength)\n",
    "t = hr.predict((1,3), wavelength)\n",
    "\n",
    "plt.figure(figsize=(15,5))\n",
    "plt.subplot(121)\n",
    "plt.plot(r, np.abs(k)**2, label='k')\n",
    "plt.plot(r, np.abs(t)**2, label='t')\n",
    "pltAttr('Radius (nm)', 'Magnitude Squared', 'HalfRing $\\lambda=1550$')\n",
    "plt.subplot(122)\n",
    "plt.plot(r, np.unwrap(np.angle(k)), label='k')\n",
    "plt.plot(r, -np.unwrap(np.angle(t)), label='t')\n",
    "pltAttr('Radius (nm)', 'Phase (rad)', 'HalfRing $\\lambda=1550$')"
   ]
  },
  {
   "cell_type": "markdown",
   "metadata": {},
   "source": [
    "All elements found in SiPANN.scee can be simulated basically identically. If you'd like this tutorial as a jupyter notebook, it can be found on github, [here](https://github.com/contagon/SiPANN/blob/master/examples/Tutorials/HalfRing.ipynb)"
   ]
  },
  {
   "cell_type": "code",
   "execution_count": null,
   "metadata": {},
   "outputs": [],
   "source": []
  }
 ],
 "metadata": {
  "kernelspec": {
   "display_name": "Python 3",
   "language": "python",
   "name": "python3"
  },
  "language_info": {
   "codemirror_mode": {
    "name": "ipython",
    "version": 3
   },
   "file_extension": ".py",
   "mimetype": "text/x-python",
   "name": "python",
   "nbconvert_exporter": "python",
   "pygments_lexer": "ipython3",
   "version": "3.7.7"
  }
 },
 "nbformat": 4,
 "nbformat_minor": 4
}
