{
 "cells": [
  {
   "cell_type": "code",
   "execution_count": 1,
   "metadata": {},
   "outputs": [],
   "source": [
    "import numpy as np\n",
    "import matplotlib.pyplot as plt\n",
    "from SiPANN import dc"
   ]
  },
  {
   "cell_type": "code",
   "execution_count": 2,
   "metadata": {},
   "outputs": [],
   "source": [
    "def pltAttr(x, y, title=None, legend='upper right', save=None):\n",
    "    if legend is not None:\n",
    "        plt.legend(loc=legend)\n",
    "    plt.xlabel(x)\n",
    "    plt.ylabel(y)\n",
    "    if title is not None:\n",
    "        plt.title(title)\n",
    "    if save is not None:\n",
    "        plt.savefig(save)"
   ]
  },
  {
   "cell_type": "markdown",
   "metadata": {},
   "source": [
    "The directional coupler portion of SiPANN is now all organized into classes in the `dc` module. Each class (which represents a different type of directional coupler) has the same functions, but with occasional different parameters. EVERYTHING IS IN NANOMETERS. Can take in np.ndarrays for any arguments, but fails to return sparams if any geometry parameters are. \n",
    "\n",
    "To initialize, each class has initial arguments `width, thickness, sw_angle=90`, with sw_angle actually coming last. On top of these, the following have the following arguments:\n",
    "\n",
    "RR:                  radius, gap<br>\n",
    "Racetrack Resonator: radius, gap, length<br>\n",
    "Straight:            gap, length<br>\n",
    "GapFuncSymmetric:    gap (as a function), dgap, zmin, zmax<br>\n",
    "\n",
    "Each class has functions:\n",
    "\n",
    "`update(**kwargs)` changes whatever argument is put in <br>\n",
    "`sparams(wavelength)` which returns the the sparams of the device. <br>\n",
    "`predict((in_port, out_port), wavelength)` gives you the coefficient corresponding to the tuple (in_port, out_port) <br>\n",
    "`gds(units='microns', view=False)` save/view gds file. WIP.\n",
    "\n",
    "Ports are labeled as:\n",
    "                2---\\      /---4\n",
    "                     ------\n",
    "                     ------\n",
    "                1---/      \\---3  \n",
    "with the ring portion of all couplers being the upper waveguide"
   ]
  },
  {
   "cell_type": "markdown",
   "metadata": {},
   "source": [
    "### Ring Resonator"
   ]
  },
  {
   "cell_type": "code",
   "execution_count": 10,
   "metadata": {},
   "outputs": [
    {
     "data": {
      "image/png": "[encoded data removed]",
      "text/plain": [
       "<Figure size 1080x504 with 1 Axes>"
      ]
     },
     "metadata": {
      "needs_background": "light"
     },
     "output_type": "display_data"
    }
   ],
   "source": [
    "r = 10000\n",
    "w = 500\n",
    "t = 220\n",
    "wavelength = np.linspace(1500, 1600)\n",
    "gap = 100\n",
    "\n",
    "rr = dc.RR(w, t, r, gap)\n",
    "k = rr.predict((1,4), wavelength)\n",
    "t = rr.predict((1,3), wavelength)\n",
    "rr.gds(view=True,extra=5,units='microns')\n",
    "\n",
    "plt.figure(figsize=(15,7))\n",
    "#plt.subplot(121)\n",
    "plt.plot(wavelength, np.abs(k)**2, label='k')\n",
    "plt.plot(wavelength, np.abs(t)**2, label='t')\n",
    "pltAttr('Wavelength', 'Magnitude', 'RR 5 Microns')\n",
    "# plt.subplot(122)\n",
    "# plt.plot(wavelength, np.unwrap(np.angle(k)), label='k')\n",
    "# plt.plot(wavelength, np.unwrap(np.angle(t)), label='t')\n",
    "# pltAttr('Gap', 'Phase', 'RR 5 Microns')"
   ]
  },
  {
   "cell_type": "code",
   "execution_count": null,
   "metadata": {},
   "outputs": [],
   "source": [
    "#change it to 50 microns\n",
    "radius = 50000\n",
    "rr.update(radius=radius)\n",
    "k = rr.predict((1,4), wavelength)\n",
    "t = rr.predict((1,3), wavelength)\n",
    "\n",
    "plt.figure(figsize=(15,7))\n",
    "plt.subplot(121)\n",
    "plt.plot(gap, np.abs(k)**2, label='k')\n",
    "plt.plot(gap, np.abs(t)**2, label='t')\n",
    "pltAttr('Gap', 'Magnitude', 'RR 50 Microns')\n",
    "plt.subplot(122)\n",
    "plt.plot(gap, np.unwrap(np.angle(k)), label='k')\n",
    "plt.plot(gap, np.unwrap(np.angle(t)), label='t')\n",
    "pltAttr('Gap', 'Phase', 'RR 50 Microns')"
   ]
  },
  {
   "cell_type": "code",
   "execution_count": null,
   "metadata": {},
   "outputs": [],
   "source": []
  }
 ],
 "metadata": {
  "kernelspec": {
   "display_name": "Python 3",
   "language": "python",
   "name": "python3"
  },
  "language_info": {
   "codemirror_mode": {
    "name": "ipython",
    "version": 3
   },
   "file_extension": ".py",
   "mimetype": "text/x-python",
   "name": "python",
   "nbconvert_exporter": "python",
   "pygments_lexer": "ipython3",
   "version": "3.7.3"
  }
 },
 "nbformat": 4,
 "nbformat_minor": 2
}
